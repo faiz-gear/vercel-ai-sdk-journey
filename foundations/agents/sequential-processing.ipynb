{
 "cells": [
  {
   "cell_type": "markdown",
   "metadata": {},
   "source": [
    "## The simplest workflow pattern executes steps in a predefined order. Each step's output becomes input for the next step, creating a clear chain of operations. This pattern is ideal for tasks with well-defined sequences, like content generation pipelines or data transformation processes."
   ]
  },
  {
   "cell_type": "code",
   "execution_count": 2,
   "metadata": {},
   "outputs": [
    {
     "ename": "TypeError",
     "evalue": "Relative import path \"init\" not prefixed with / or ./ or ../ and not in import map from \"file:///Users/luyao/learn-front-end/learn-frontend-ai/learn-vercel-ai-sdk/foundations/agents/$deno$repl.mts\"",
     "output_type": "error",
     "traceback": [
      "Stack trace:",
      "TypeError: Relative import path \"init\" not prefixed with / or ./ or ../ and not in import map from \"file:///Users/luyao/learn-front-end/learn-frontend-ai/learn-vercel-ai-sdk/foundations/agents/$deno$repl.mts\"",
      "    at async <anonymous>:3:36"
     ]
    }
   ],
   "source": [
    "import { generateText, generateObject } from 'ai'\n",
    "import { z } from 'zod'\n",
    "import { createCompatibleOpenAI } from '../../init.ts'\n",
    "\n",
    "const openai = createCompatibleOpenAI()\n",
    "\n",
    "const qualityMetricsSchema = z.object({\n",
    "\tpersuasion: z.boolean(),\n",
    "\tclarity: z.number(),\n",
    "\tcreativity: z.number(),\n",
    "})\n",
    "\n",
    "\n",
    "async function generateMarketingCopy(input: string) {\n",
    "\tconst model = openai('gpt-4o-mini')\n",
    "\n",
    "\t// 使用模型生成营销文案\n",
    "\tconst { text: copy } = await generateText({\n",
    "\t\tmodel,\n",
    "\t\tprompt:`\n",
    "\t\tYou are a marketing copywriter.\n",
    "\t\tYou are given a product description and you need to generate a persuasive marketing copy for the product.\n",
    "\t\t\n",
    "\t\tProduct description: ${input}\t\n",
    "\t\t`,\n",
    "\t})\n",
    "\n",
    "\n",
    "\t// 生成文案质量评估\n",
    "\tconst { object: qualityMetrics } = await generateObject<z.infer<typeof qualityMetricsSchema>>({\n",
    "\t\tmodel,\n",
    "\t\tschema: qualityMetricsSchema,\n",
    "\t\tprompt: `\n",
    "\t\tEvaluate this marketing copy for:\n",
    "\t\t- Persuasion: How effectively does the copy persuade the reader to take action(true or false)?\n",
    "\t\t- Clarity: Is the copy clear and easy to understand(1-10)?\n",
    "\t\t- Creativity: Is the copy creative and engaging(1-10)?\n",
    "\t\t\n",
    "\t\tMarketing copy: ${copy}\n",
    "\t\t`\n",
    "\t})\n",
    "\t\n",
    "\t\n",
    "\t// 如果文案质量不通过，则重新生成文案\n",
    "\tif (!qualityMetrics.persuasion || qualityMetrics.clarity < 8 || qualityMetrics.creativity < 8) {\n",
    "\t\tconst { text: improvedCopy } = await generateText({\n",
    "\t\t\tmodel,\n",
    "\t\t\tprompt: `\n",
    "\t\t\tImprove this marketing copy for:\n",
    "\t\t\t- ${qualityMetrics.persuasion ? '' : 'Persuasion is not effective'}\n",
    "\t\t\t- ${qualityMetrics.clarity < 8 ? `Improve the clarity and make it easier to understand` : ''}\n",
    "\t\t\t- ${qualityMetrics.creativity < 8 ? `Make it more creative and engaging` : ''}\n",
    "\t\t\t\t\n",
    "\t\t\t\tMarketing copy: ${copy}\n",
    "\t\t\t`\n",
    "\t\t})\n",
    "\n",
    "\t\treturn {\n",
    "\t\t\tcopy: improvedCopy,\n",
    "\t\t\tqualityMetrics\n",
    "\t\t}\n",
    "\t}\n",
    "\n",
    "\treturn { copy, qualityMetrics }\n",
    "}\n",
    "\n",
    "\n",
    "const { copy, qualityMetrics } = await generateMarketingCopy('A product that helps people learn to code')\n",
    "console.log(copy)\n",
    "console.log(qualityMetrics)"
   ]
  }
 ],
 "metadata": {
  "kernelspec": {
   "display_name": "Deno",
   "language": "typescript",
   "name": "deno"
  },
  "language_info": {
   "codemirror_mode": "typescript",
   "file_extension": ".ts",
   "mimetype": "text/x.typescript",
   "name": "typescript",
   "nbconvert_exporter": "script",
   "pygments_lexer": "typescript",
   "version": "5.6.2"
  }
 },
 "nbformat": 4,
 "nbformat_minor": 2
}
